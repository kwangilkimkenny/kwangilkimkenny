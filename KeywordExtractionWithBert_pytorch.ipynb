{
 "cells": [
  {
   "cell_type": "markdown",
   "metadata": {},
   "source": [
    "https://github.com/ibatra/BERT-Keyword-Extractor/blob/master/BERT-Keyword%20Extractor.ipynb"
   ]
  },
  {
   "cell_type": "code",
   "execution_count": 2,
   "metadata": {},
   "outputs": [],
   "source": [
    "import os\n",
    "from nltk.tokenize import sent_tokenize"
   ]
  },
  {
   "cell_type": "code",
   "execution_count": 3,
   "metadata": {},
   "outputs": [
    {
     "data": {
      "text/plain": [
       "'/Users/kimkwangil/Project/01EssayFitAI/KeywordExtractor'"
      ]
     },
     "execution_count": 3,
     "metadata": {},
     "output_type": "execute_result"
    }
   ],
   "source": [
    "pwd"
   ]
  },
  {
   "cell_type": "code",
   "execution_count": 4,
   "metadata": {},
   "outputs": [
    {
     "data": {
      "text/plain": [
       "['KeywordExtractionWithBert_pytorch.ipynb',\n",
       " 'maui-semeval2010-train',\n",
       " 'maui-semeval2010-test',\n",
       " 'BERT-Keyword Extractor.ipynb',\n",
       " '.ipynb_checkpoints']"
      ]
     },
     "execution_count": 4,
     "metadata": {},
     "output_type": "execute_result"
    }
   ],
   "source": [
    "os.listdir()"
   ]
  },
  {
   "cell_type": "code",
   "execution_count": 5,
   "metadata": {},
   "outputs": [],
   "source": [
    "#train_path = \"essay/01_Harvard\"\n",
    "train_path = \"maui-semeval2010-train\""
   ]
  },
  {
   "cell_type": "markdown",
   "metadata": {},
   "source": [
    ".txt로 끝나는 문서를 모두 txt로 바꿔준다.\n",
    ".key 파일도 모두 key로 바꿔준다."
   ]
  },
  {
   "cell_type": "code",
   "execution_count": 6,
   "metadata": {},
   "outputs": [],
   "source": [
    "txt = sorted([f for f in os.listdir(train_path) if not f.endswith(\"-justTitle.txt\") and not f.endswith(\".key\") and not f.endswith(\"-CrowdCountskey\")])\n",
    "key = sorted([f for f in os.listdir(train_path) if f.endswith(\".key\")])"
   ]
  },
  {
   "cell_type": "code",
   "execution_count": 7,
   "metadata": {},
   "outputs": [],
   "source": [
    "filekey = dict()\n",
    "for i, k in enumerate(txt):\n",
    "    filekey[key[i]] = k"
   ]
  },
  {
   "cell_type": "code",
   "execution_count": 8,
   "metadata": {},
   "outputs": [
    {
     "data": {
      "text/plain": [
       "{'C-41.key': 'C-41.txt',\n",
       " 'C-42.key': 'C-42.txt',\n",
       " 'C-44.key': 'C-44.txt',\n",
       " 'C-45.key': 'C-45.txt',\n",
       " 'C-46.key': 'C-46.txt',\n",
       " 'C-48.key': 'C-48.txt',\n",
       " 'C-49.key': 'C-49.txt',\n",
       " 'C-50.key': 'C-50.txt',\n",
       " 'C-52.key': 'C-52.txt',\n",
       " 'C-53.key': 'C-53.txt',\n",
       " 'C-54.key': 'C-54.txt',\n",
       " 'C-55.key': 'C-55.txt',\n",
       " 'C-56.key': 'C-56.txt',\n",
       " 'C-57.key': 'C-57.txt',\n",
       " 'C-58.key': 'C-58.txt',\n",
       " 'C-61.key': 'C-61.txt',\n",
       " 'C-62.key': 'C-62.txt',\n",
       " 'C-65.key': 'C-65.txt',\n",
       " 'C-66.key': 'C-66.txt',\n",
       " 'C-67.key': 'C-67.txt',\n",
       " 'C-68.key': 'C-68.txt',\n",
       " 'C-69.key': 'C-69.txt',\n",
       " 'C-71.key': 'C-71.txt',\n",
       " 'C-72.key': 'C-72.txt',\n",
       " 'C-74.key': 'C-74.txt',\n",
       " 'C-75.key': 'C-75.txt',\n",
       " 'C-76.key': 'C-76.txt',\n",
       " 'C-77.key': 'C-77.txt',\n",
       " 'C-78.key': 'C-78.txt',\n",
       " 'C-79.key': 'C-79.txt',\n",
       " 'C-80.key': 'C-80.txt',\n",
       " 'C-81.key': 'C-81.txt',\n",
       " 'C-83.key': 'C-83.txt',\n",
       " 'C-84.key': 'C-84.txt',\n",
       " 'H-35.key': 'H-35.txt',\n",
       " 'H-37.key': 'H-37.txt',\n",
       " 'H-38.key': 'H-38.txt',\n",
       " 'H-40.key': 'H-40.txt',\n",
       " 'H-41.key': 'H-41.txt',\n",
       " 'H-42.key': 'H-42.txt',\n",
       " 'H-43.key': 'H-43.txt',\n",
       " 'H-44.key': 'H-44.txt',\n",
       " 'H-45.key': 'H-45.txt',\n",
       " 'H-46.key': 'H-46.txt',\n",
       " 'H-47.key': 'H-47.txt',\n",
       " 'H-48.key': 'H-48.txt',\n",
       " 'H-49.key': 'H-49.txt',\n",
       " 'H-50.key': 'H-50.txt',\n",
       " 'H-52.key': 'H-52.txt',\n",
       " 'H-53.key': 'H-53.txt',\n",
       " 'H-54.key': 'H-54.txt',\n",
       " 'H-60.key': 'H-60.txt',\n",
       " 'H-61.key': 'H-61.txt',\n",
       " 'H-62.key': 'H-62.txt',\n",
       " 'H-63.key': 'H-63.txt',\n",
       " 'H-64.key': 'H-64.txt',\n",
       " 'H-69.key': 'H-69.txt',\n",
       " 'H-73.key': 'H-73.txt',\n",
       " 'H-77.key': 'H-77.txt',\n",
       " 'H-79.key': 'H-79.txt',\n",
       " 'H-81.key': 'H-81.txt',\n",
       " 'H-82.key': 'H-82.txt',\n",
       " 'H-83.key': 'H-83.txt',\n",
       " 'H-84.key': 'H-84.txt',\n",
       " 'H-85.key': 'H-85.txt',\n",
       " 'H-87.key': 'H-87.txt',\n",
       " 'H-88.key': 'H-88.txt',\n",
       " 'H-90.key': 'H-90.txt',\n",
       " 'H-92.key': 'H-92.txt',\n",
       " 'H-95.key': 'H-95.txt',\n",
       " 'H-96.key': 'H-96.txt',\n",
       " 'H-97.key': 'H-97.txt',\n",
       " 'H-98.key': 'H-98.txt',\n",
       " 'I-37.key': 'I-37.txt',\n",
       " 'I-38.key': 'I-38.txt',\n",
       " 'I-42.key': 'I-42.txt',\n",
       " 'I-43.key': 'I-43.txt',\n",
       " 'I-45.key': 'I-45.txt',\n",
       " 'I-46.key': 'I-46.txt',\n",
       " 'I-47.key': 'I-47.txt',\n",
       " 'I-48.key': 'I-48.txt',\n",
       " 'I-49.key': 'I-49.txt',\n",
       " 'I-50.key': 'I-50.txt',\n",
       " 'I-51.key': 'I-51.txt',\n",
       " 'I-52.key': 'I-52.txt',\n",
       " 'I-53.key': 'I-53.txt',\n",
       " 'I-54.key': 'I-54.txt',\n",
       " 'I-55.key': 'I-55.txt',\n",
       " 'I-56.key': 'I-56.txt',\n",
       " 'I-57.key': 'I-57.txt',\n",
       " 'I-58.key': 'I-58.txt',\n",
       " 'I-59.key': 'I-59.txt',\n",
       " 'I-60.key': 'I-60.txt',\n",
       " 'I-61.key': 'I-61.txt',\n",
       " 'I-62.key': 'I-62.txt',\n",
       " 'I-63.key': 'I-63.txt',\n",
       " 'I-64.key': 'I-64.txt',\n",
       " 'I-65.key': 'I-65.txt',\n",
       " 'I-66.key': 'I-66.txt',\n",
       " 'I-68.key': 'I-68.txt',\n",
       " 'I-70.key': 'I-70.txt',\n",
       " 'I-71.key': 'I-71.txt',\n",
       " 'I-72.key': 'I-72.txt',\n",
       " 'I-73.key': 'I-73.txt',\n",
       " 'I-74.key': 'I-74.txt',\n",
       " 'I-75.key': 'I-75.txt',\n",
       " 'I-76.key': 'I-76.txt',\n",
       " 'I-77.key': 'I-77.txt',\n",
       " 'J-33.key': 'J-33.txt',\n",
       " 'J-34.key': 'J-34.txt',\n",
       " 'J-35.key': 'J-35.txt',\n",
       " 'J-36.key': 'J-36.txt',\n",
       " 'J-37.key': 'J-37.txt',\n",
       " 'J-38.key': 'J-38.txt',\n",
       " 'J-39.key': 'J-39.txt',\n",
       " 'J-40.key': 'J-40.txt',\n",
       " 'J-41.key': 'J-41.txt',\n",
       " 'J-42.key': 'J-42.txt',\n",
       " 'J-44.key': 'J-44.txt',\n",
       " 'J-45.key': 'J-45.txt',\n",
       " 'J-47.key': 'J-47.txt',\n",
       " 'J-49.key': 'J-49.txt',\n",
       " 'J-50.key': 'J-50.txt',\n",
       " 'J-51.key': 'J-51.txt',\n",
       " 'J-52.key': 'J-52.txt',\n",
       " 'J-53.key': 'J-53.txt',\n",
       " 'J-55.key': 'J-55.txt',\n",
       " 'J-56.key': 'J-56.txt',\n",
       " 'J-57.key': 'J-57.txt',\n",
       " 'J-58.key': 'J-58.txt',\n",
       " 'J-59.key': 'J-59.txt',\n",
       " 'J-60.key': 'J-60.txt',\n",
       " 'J-61.key': 'J-61.txt',\n",
       " 'J-62.key': 'J-62.txt',\n",
       " 'J-63.key': 'J-63.txt',\n",
       " 'J-65.key': 'J-65.txt',\n",
       " 'J-66.key': 'J-66.txt',\n",
       " 'J-67.key': 'J-67.txt',\n",
       " 'J-69.key': 'J-69.txt',\n",
       " 'J-70.key': 'J-70.txt',\n",
       " 'J-71.key': 'J-71.txt',\n",
       " 'J-72.key': 'J-72.txt',\n",
       " 'J-73.key': 'J-73.txt',\n",
       " 'J-74.key': 'J-74.txt'}"
      ]
     },
     "execution_count": 8,
     "metadata": {},
     "output_type": "execute_result"
    }
   ],
   "source": [
    "filekey"
   ]
  },
  {
   "cell_type": "code",
   "execution_count": 9,
   "metadata": {},
   "outputs": [],
   "source": [
    "def convert(key):\n",
    "    sentences = \"\"\n",
    "    for line in open(train_path + \"/\" + filekey[key], 'r', encoding='utf8' ):\n",
    "        sentences += (\" \" + line.rstrip())\n",
    "    tokens = sent_tokenize(sentences)\n",
    "    key_file = open(train_path + \"/\" + str(key),'r')\n",
    "    keys = [line.strip() for line in key_file]\n",
    "    key_sent = []\n",
    "    labels = []\n",
    "    for token in tokens:\n",
    "        z = ['O'] * len(token.split())\n",
    "        for k in keys:\n",
    "            if k in token:\n",
    "                \n",
    "                if len(k.split())==1:\n",
    "                    try:\n",
    "                        z[token.lower().split().index(k.lower().split()[0])] = 'B'\n",
    "                    except ValueError:\n",
    "                        continue\n",
    "                elif len(k.split())>1:\n",
    "                    try:\n",
    "                        if token.lower().split().index(k.lower().split()[0]) and token.lower().split().index(k.lower().split()[-1]):\n",
    "                            z[token.lower().split().index(k.lower().split()[0])] = 'B'\n",
    "                            for j in range(1, len(k.split())):\n",
    "                                z[token.lower().split().index(k.lower().split()[j])] = 'I'\n",
    "                    except ValueError:\n",
    "                        continue\n",
    "        for m, n in enumerate(z):\n",
    "            if z[m] == 'I' and z[m-1] == 'O':\n",
    "                z[m] = 'O'\n",
    "\n",
    "        if set(z) != {'O'}:\n",
    "            labels.append(z) \n",
    "            key_sent.append(token)\n",
    "    return key_sent, labels"
   ]
  },
  {
   "cell_type": "code",
   "execution_count": 10,
   "metadata": {},
   "outputs": [],
   "source": [
    "sentences_ = []\n",
    "labels_ = []\n",
    "for key, value in filekey.items():\n",
    "    s, l = convert(key)\n",
    "    sentences_.append(s)\n",
    "    labels_.append(l)\n",
    "sentences = [item for sublist in sentences_ for item in sublist]\n",
    "labels = [item for sublist in labels_ for item in sublist]\n",
    "# print(len(sentences), len(labels))"
   ]
  },
  {
   "cell_type": "markdown",
   "metadata": {},
   "source": [
    "Model"
   ]
  },
  {
   "cell_type": "code",
   "execution_count": 11,
   "metadata": {},
   "outputs": [],
   "source": [
    "import torch"
   ]
  },
  {
   "cell_type": "code",
   "execution_count": 16,
   "metadata": {},
   "outputs": [],
   "source": [
    "import pandas as pd\n",
    "import numpy as np\n",
    "from tqdm import tqdm, trange\n",
    "import torch\n",
    "from torch.optim import Adam\n",
    "from torch.utils.data import TensorDataset, DataLoader, RandomSampler, SequentialSampler\n",
    "from torch.nn.utils.rnn import pad_sequence\n",
    "from keras.preprocessing.sequence import pad_sequences\n",
    "from sklearn.model_selection import train_test_split\n",
    "from pytorch_pretrained_bert import BertTokenizer, BertConfig\n",
    "from pytorch_pretrained_bert import BertForTokenClassification, BertAdam"
   ]
  },
  {
   "cell_type": "code",
   "execution_count": 17,
   "metadata": {},
   "outputs": [],
   "source": [
    "MAX_LEN = 75  #문자를 읽는 양\n",
    "bs = 32 #배치사이즈"
   ]
  },
  {
   "cell_type": "code",
   "execution_count": 18,
   "metadata": {},
   "outputs": [],
   "source": [
    "tag2idx = {'B': 0, 'I': 1, 'O': 2} #태그를 인덱스로 만들고 키앖을 정함 0,1,2\n",
    "tags_vals = ['B', 'I', 'O'] #태그값을 리스트로 만듬"
   ]
  },
  {
   "cell_type": "code",
   "execution_count": 19,
   "metadata": {},
   "outputs": [],
   "source": [
    "device = torch.device(\"cuda\" if torch.cuda.is_available() else \"cpu\") #gpu를 사용하겠다는거. 있다면ㅎ 나는 있으니까 사용!\n",
    "n_gpu = torch.cuda.device_count()"
   ]
  },
  {
   "cell_type": "code",
   "execution_count": 20,
   "metadata": {},
   "outputs": [
    {
     "name": "stderr",
     "output_type": "stream",
     "text": [
      "100%|██████████| 231508/231508 [00:04<00:00, 50617.68B/s]\n"
     ]
    }
   ],
   "source": [
    "tokenizer = BertTokenizer.from_pretrained('bert-base-uncased', do_lower_case=True) # 버트 사전훈련한 모델을 토큰으로 만듬"
   ]
  },
  {
   "cell_type": "code",
   "execution_count": 21,
   "metadata": {},
   "outputs": [],
   "source": [
    "tokenized_texts = [tokenizer.tokenize(sent) for sent in sentences] #토큰화된 텍스트를 리스트로 담음"
   ]
  },
  {
   "cell_type": "code",
   "execution_count": 22,
   "metadata": {},
   "outputs": [
    {
     "name": "stderr",
     "output_type": "stream",
     "text": [
      "Token indices sequence length is longer than the specified maximum  sequence length for this BERT model (766 > 512). Running this sequence through BERT will result in indexing errors\n",
      "Token indices sequence length is longer than the specified maximum  sequence length for this BERT model (714 > 512). Running this sequence through BERT will result in indexing errors\n",
      "Token indices sequence length is longer than the specified maximum  sequence length for this BERT model (544 > 512). Running this sequence through BERT will result in indexing errors\n",
      "Token indices sequence length is longer than the specified maximum  sequence length for this BERT model (630 > 512). Running this sequence through BERT will result in indexing errors\n",
      "Token indices sequence length is longer than the specified maximum  sequence length for this BERT model (1001 > 512). Running this sequence through BERT will result in indexing errors\n"
     ]
    }
   ],
   "source": [
    "#ids, tags를 불러와서 패딩작업 처리함.... 여전히 전처리중...\n",
    "input_ids = pad_sequences([tokenizer.convert_tokens_to_ids(txt) for txt in tokenized_texts],\n",
    "                          maxlen=MAX_LEN, dtype=\"long\", truncating=\"post\", padding=\"post\")\n",
    "tags = pad_sequences([[tag2idx.get(l) for l in lab] for lab in labels],\n",
    "                     maxlen=MAX_LEN, value=tag2idx[\"O\"], padding=\"post\",\n",
    "                     dtype=\"long\", truncating=\"post\")"
   ]
  },
  {
   "cell_type": "code",
   "execution_count": 23,
   "metadata": {},
   "outputs": [],
   "source": [
    "attention_masks = [[float(i>0) for i in ii] for ii in input_ids] #마스크처리해서 가려줌. 맞춰보랑게. 마스크를"
   ]
  },
  {
   "cell_type": "code",
   "execution_count": 24,
   "metadata": {},
   "outputs": [],
   "source": [
    "tr_inputs, val_inputs, tr_tags, val_tags = train_test_split(input_ids, tags, \n",
    "                                                            random_state=2018, test_size=0.1)\n",
    "tr_masks, val_masks, _, _ = train_test_split(attention_masks, input_ids,\n",
    "                                             random_state=2018, test_size=0.1)"
   ]
  },
  {
   "cell_type": "code",
   "execution_count": 25,
   "metadata": {},
   "outputs": [],
   "source": [
    "#traing, validation을  input, tags, masks로 구분해서리 가각 텐서로 만들어서\n",
    "\n",
    "tr_inputs = torch.tensor(tr_inputs)\n",
    "val_inputs = torch.tensor(val_inputs)\n",
    "tr_tags = torch.tensor(tr_tags)\n",
    "val_tags = torch.tensor(val_tags)\n",
    "tr_masks = torch.tensor(tr_masks)\n",
    "val_masks = torch.tensor(val_masks)"
   ]
  },
  {
   "cell_type": "code",
   "execution_count": 26,
   "metadata": {},
   "outputs": [],
   "source": [
    "#데이터로 로딩해서리\n",
    "\n",
    "train_data = TensorDataset(tr_inputs, tr_masks, tr_tags)\n",
    "train_sampler = RandomSampler(train_data)\n",
    "train_dataloader = DataLoader(train_data, sampler=train_sampler, batch_size=bs)\n",
    "\n",
    "valid_data = TensorDataset(val_inputs, val_masks, val_tags)\n",
    "valid_sampler = SequentialSampler(valid_data)\n",
    "valid_dataloader = DataLoader(valid_data, sampler=valid_sampler, batch_size=bs)"
   ]
  },
  {
   "cell_type": "code",
   "execution_count": 27,
   "metadata": {},
   "outputs": [
    {
     "name": "stderr",
     "output_type": "stream",
     "text": [
      "100%|██████████| 407873900/407873900 [2:30:04<00:00, 45295.35B/s]  \n"
     ]
    }
   ],
   "source": [
    "model = BertForTokenClassification.from_pretrained(\"bert-base-uncased\", num_labels=len(tag2idx)) #분류모델을 가져와서"
   ]
  },
  {
   "cell_type": "code",
   "execution_count": 30,
   "metadata": {},
   "outputs": [],
   "source": [
    "model = model.cpu() #쿠다에 때려넣겠다고 함수를 선언한 다음에"
   ]
  },
  {
   "cell_type": "code",
   "execution_count": 36,
   "metadata": {},
   "outputs": [],
   "source": [
    "#완전 파인튜닝 했다고하고, 손실없어, 최적화하겠다고 함\n",
    "\n",
    "FULL_FINETUNING = True\n",
    "if FULL_FINETUNING:\n",
    "    param_optimizer = list(model.named_parameters())\n",
    "    no_decay = ['bias', 'gamma', 'beta']\n",
    "    optimizer_grouped_parameters = [\n",
    "        {'params': [p for n, p in param_optimizer if not any(nd in n for nd in no_decay)],\n",
    "         'weight_decay_rate': 0.01},\n",
    "        {'params': [p for n, p in param_optimizer if any(nd in n for nd in no_decay)],\n",
    "         'weight_decay_rate': 0.0}\n",
    "    ]\n",
    "else:\n",
    "    param_optimizer = list(model.classifier.named_parameters()) \n",
    "    optimizer_grouped_parameters = [{\"params\": [p for n, p in param_optimizer]}]\n",
    "optimizer = Adam(optimizer_grouped_parameters, lr=3e-5)"
   ]
  },
  {
   "cell_type": "code",
   "execution_count": 38,
   "metadata": {},
   "outputs": [
    {
     "name": "stdout",
     "output_type": "stream",
     "text": [
      "Collecting seqeval[cpu]\n",
      "  Downloading seqeval-0.0.12.tar.gz (21 kB)\n",
      "Requirement already satisfied: numpy>=1.14.0 in /anaconda3/envs/pytorch/lib/python3.7/site-packages (from seqeval[cpu]) (1.18.1)\n",
      "Requirement already satisfied: Keras>=2.2.4 in /anaconda3/envs/pytorch/lib/python3.7/site-packages (from seqeval[cpu]) (2.3.1)\n",
      "Requirement already satisfied: tensorflow>=1.13.1 in /anaconda3/envs/pytorch/lib/python3.7/site-packages (from seqeval[cpu]) (2.0.0)\n",
      "Requirement already satisfied: scipy>=0.14 in /anaconda3/envs/pytorch/lib/python3.7/site-packages (from Keras>=2.2.4->seqeval[cpu]) (1.4.1)\n",
      "Requirement already satisfied: keras-preprocessing>=1.0.5 in /anaconda3/envs/pytorch/lib/python3.7/site-packages (from Keras>=2.2.4->seqeval[cpu]) (1.1.0)\n",
      "Requirement already satisfied: keras-applications>=1.0.6 in /anaconda3/envs/pytorch/lib/python3.7/site-packages (from Keras>=2.2.4->seqeval[cpu]) (1.0.8)\n",
      "Requirement already satisfied: pyyaml in /anaconda3/envs/pytorch/lib/python3.7/site-packages (from Keras>=2.2.4->seqeval[cpu]) (5.3.1)\n",
      "Requirement already satisfied: six>=1.9.0 in /anaconda3/envs/pytorch/lib/python3.7/site-packages (from Keras>=2.2.4->seqeval[cpu]) (1.14.0)\n",
      "Requirement already satisfied: h5py in /anaconda3/envs/pytorch/lib/python3.7/site-packages (from Keras>=2.2.4->seqeval[cpu]) (2.10.0)\n",
      "Requirement already satisfied: opt-einsum>=2.3.2 in /anaconda3/envs/pytorch/lib/python3.7/site-packages (from tensorflow>=1.13.1->seqeval[cpu]) (3.1.0)\n",
      "Requirement already satisfied: wheel>=0.26 in /anaconda3/envs/pytorch/lib/python3.7/site-packages (from tensorflow>=1.13.1->seqeval[cpu]) (0.34.2)\n",
      "Requirement already satisfied: google-pasta>=0.1.6 in /anaconda3/envs/pytorch/lib/python3.7/site-packages (from tensorflow>=1.13.1->seqeval[cpu]) (0.2.0)\n",
      "Requirement already satisfied: wrapt>=1.11.1 in /anaconda3/envs/pytorch/lib/python3.7/site-packages (from tensorflow>=1.13.1->seqeval[cpu]) (1.12.1)\n",
      "Requirement already satisfied: tensorflow-estimator<2.1.0,>=2.0.0 in /anaconda3/envs/pytorch/lib/python3.7/site-packages (from tensorflow>=1.13.1->seqeval[cpu]) (2.0.0)\n",
      "Requirement already satisfied: termcolor>=1.1.0 in /anaconda3/envs/pytorch/lib/python3.7/site-packages (from tensorflow>=1.13.1->seqeval[cpu]) (1.1.0)\n",
      "Requirement already satisfied: grpcio>=1.8.6 in /anaconda3/envs/pytorch/lib/python3.7/site-packages (from tensorflow>=1.13.1->seqeval[cpu]) (1.16.1)\n",
      "Requirement already satisfied: gast==0.2.2 in /anaconda3/envs/pytorch/lib/python3.7/site-packages (from tensorflow>=1.13.1->seqeval[cpu]) (0.2.2)\n",
      "Requirement already satisfied: protobuf>=3.6.1 in /anaconda3/envs/pytorch/lib/python3.7/site-packages (from tensorflow>=1.13.1->seqeval[cpu]) (3.11.4)\n",
      "Requirement already satisfied: tensorboard<2.1.0,>=2.0.0 in /anaconda3/envs/pytorch/lib/python3.7/site-packages (from tensorflow>=1.13.1->seqeval[cpu]) (2.0.0)\n",
      "Requirement already satisfied: absl-py>=0.7.0 in /anaconda3/envs/pytorch/lib/python3.7/site-packages (from tensorflow>=1.13.1->seqeval[cpu]) (0.9.0)\n",
      "Requirement already satisfied: astor>=0.6.0 in /anaconda3/envs/pytorch/lib/python3.7/site-packages (from tensorflow>=1.13.1->seqeval[cpu]) (0.8.0)\n",
      "Requirement already satisfied: setuptools in /anaconda3/envs/pytorch/lib/python3.7/site-packages (from protobuf>=3.6.1->tensorflow>=1.13.1->seqeval[cpu]) (46.1.1.post20200323)\n",
      "Requirement already satisfied: werkzeug>=0.11.15 in /anaconda3/envs/pytorch/lib/python3.7/site-packages (from tensorboard<2.1.0,>=2.0.0->tensorflow>=1.13.1->seqeval[cpu]) (1.0.0)\n",
      "Requirement already satisfied: markdown>=2.6.8 in /anaconda3/envs/pytorch/lib/python3.7/site-packages (from tensorboard<2.1.0,>=2.0.0->tensorflow>=1.13.1->seqeval[cpu]) (3.1.1)\n",
      "Building wheels for collected packages: seqeval\n",
      "  Building wheel for seqeval (setup.py) ... \u001b[?25ldone\n",
      "\u001b[?25h  Created wheel for seqeval: filename=seqeval-0.0.12-py3-none-any.whl size=7423 sha256=57ebfd47ec43b534c080d2617d091b78d428e36405cd3afa1f8dadfb007123a2\n",
      "  Stored in directory: /Users/kimkwangil/Library/Caches/pip/wheels/dc/cc/62/a3b81f92d35a80e39eb9b2a9d8b31abac54c02b21b2d466edc\n",
      "Successfully built seqeval\n",
      "Installing collected packages: seqeval\n",
      "Successfully installed seqeval-0.0.12\n"
     ]
    }
   ],
   "source": [
    "!pip install seqeval[cpu]"
   ]
  },
  {
   "cell_type": "code",
   "execution_count": 39,
   "metadata": {},
   "outputs": [],
   "source": [
    "from seqeval.metrics import f1_score #f1스코어를 비교하자 이제. 이게 잘 나오면 성능으 좋은거지\n",
    "\n",
    "def flat_accuracy(preds, labels): #이건 정확도를 측정하는 함수넹. \n",
    "    pred_flat = np.argmax(preds, axis=2).flatten()\n",
    "    labels_flat = labels.flatten()\n",
    "    return np.sum(pred_flat == labels_flat) / len(labels_flat)"
   ]
  },
  {
   "cell_type": "code",
   "execution_count": 40,
   "metadata": {},
   "outputs": [
    {
     "name": "stderr",
     "output_type": "stream",
     "text": [
      "\n",
      "\n",
      "Epoch:   0%|          | 0/1 [00:00<?, ?it/s]\u001b[A\u001b[A"
     ]
    },
    {
     "ename": "KeyboardInterrupt",
     "evalue": "",
     "output_type": "error",
     "traceback": [
      "\u001b[0;31m---------------------------------------------------------------------------\u001b[0m",
      "\u001b[0;31mKeyboardInterrupt\u001b[0m                         Traceback (most recent call last)",
      "\u001b[0;32m<ipython-input-40-edafa1bbd622>\u001b[0m in \u001b[0;36m<module>\u001b[0;34m\u001b[0m\n\u001b[1;32m     23\u001b[0m         \u001b[0mtorch\u001b[0m\u001b[0;34m.\u001b[0m\u001b[0mnn\u001b[0m\u001b[0;34m.\u001b[0m\u001b[0mutils\u001b[0m\u001b[0;34m.\u001b[0m\u001b[0mclip_grad_norm_\u001b[0m\u001b[0;34m(\u001b[0m\u001b[0mparameters\u001b[0m\u001b[0;34m=\u001b[0m\u001b[0mmodel\u001b[0m\u001b[0;34m.\u001b[0m\u001b[0mparameters\u001b[0m\u001b[0;34m(\u001b[0m\u001b[0;34m)\u001b[0m\u001b[0;34m,\u001b[0m \u001b[0mmax_norm\u001b[0m\u001b[0;34m=\u001b[0m\u001b[0mmax_grad_norm\u001b[0m\u001b[0;34m)\u001b[0m\u001b[0;34m\u001b[0m\u001b[0;34m\u001b[0m\u001b[0m\n\u001b[1;32m     24\u001b[0m         \u001b[0;31m# update parameters\u001b[0m\u001b[0;34m\u001b[0m\u001b[0;34m\u001b[0m\u001b[0;34m\u001b[0m\u001b[0m\n\u001b[0;32m---> 25\u001b[0;31m         \u001b[0moptimizer\u001b[0m\u001b[0;34m.\u001b[0m\u001b[0mstep\u001b[0m\u001b[0;34m(\u001b[0m\u001b[0;34m)\u001b[0m\u001b[0;34m\u001b[0m\u001b[0;34m\u001b[0m\u001b[0m\n\u001b[0m\u001b[1;32m     26\u001b[0m         \u001b[0mmodel\u001b[0m\u001b[0;34m.\u001b[0m\u001b[0mzero_grad\u001b[0m\u001b[0;34m(\u001b[0m\u001b[0;34m)\u001b[0m\u001b[0;34m\u001b[0m\u001b[0;34m\u001b[0m\u001b[0m\n\u001b[1;32m     27\u001b[0m     \u001b[0;31m# print train loss per epoch\u001b[0m\u001b[0;34m\u001b[0m\u001b[0;34m\u001b[0m\u001b[0;34m\u001b[0m\u001b[0m\n",
      "\u001b[0;32m/anaconda3/envs/pytorch/lib/python3.7/site-packages/torch/optim/adam.py\u001b[0m in \u001b[0;36mstep\u001b[0;34m(self, closure)\u001b[0m\n\u001b[1;32m    101\u001b[0m                     \u001b[0mdenom\u001b[0m \u001b[0;34m=\u001b[0m \u001b[0;34m(\u001b[0m\u001b[0mmax_exp_avg_sq\u001b[0m\u001b[0;34m.\u001b[0m\u001b[0msqrt\u001b[0m\u001b[0;34m(\u001b[0m\u001b[0;34m)\u001b[0m \u001b[0;34m/\u001b[0m \u001b[0mmath\u001b[0m\u001b[0;34m.\u001b[0m\u001b[0msqrt\u001b[0m\u001b[0;34m(\u001b[0m\u001b[0mbias_correction2\u001b[0m\u001b[0;34m)\u001b[0m\u001b[0;34m)\u001b[0m\u001b[0;34m.\u001b[0m\u001b[0madd_\u001b[0m\u001b[0;34m(\u001b[0m\u001b[0mgroup\u001b[0m\u001b[0;34m[\u001b[0m\u001b[0;34m'eps'\u001b[0m\u001b[0;34m]\u001b[0m\u001b[0;34m)\u001b[0m\u001b[0;34m\u001b[0m\u001b[0;34m\u001b[0m\u001b[0m\n\u001b[1;32m    102\u001b[0m                 \u001b[0;32melse\u001b[0m\u001b[0;34m:\u001b[0m\u001b[0;34m\u001b[0m\u001b[0;34m\u001b[0m\u001b[0m\n\u001b[0;32m--> 103\u001b[0;31m                     \u001b[0mdenom\u001b[0m \u001b[0;34m=\u001b[0m \u001b[0;34m(\u001b[0m\u001b[0mexp_avg_sq\u001b[0m\u001b[0;34m.\u001b[0m\u001b[0msqrt\u001b[0m\u001b[0;34m(\u001b[0m\u001b[0;34m)\u001b[0m \u001b[0;34m/\u001b[0m \u001b[0mmath\u001b[0m\u001b[0;34m.\u001b[0m\u001b[0msqrt\u001b[0m\u001b[0;34m(\u001b[0m\u001b[0mbias_correction2\u001b[0m\u001b[0;34m)\u001b[0m\u001b[0;34m)\u001b[0m\u001b[0;34m.\u001b[0m\u001b[0madd_\u001b[0m\u001b[0;34m(\u001b[0m\u001b[0mgroup\u001b[0m\u001b[0;34m[\u001b[0m\u001b[0;34m'eps'\u001b[0m\u001b[0;34m]\u001b[0m\u001b[0;34m)\u001b[0m\u001b[0;34m\u001b[0m\u001b[0;34m\u001b[0m\u001b[0m\n\u001b[0m\u001b[1;32m    104\u001b[0m \u001b[0;34m\u001b[0m\u001b[0m\n\u001b[1;32m    105\u001b[0m                 \u001b[0mstep_size\u001b[0m \u001b[0;34m=\u001b[0m \u001b[0mgroup\u001b[0m\u001b[0;34m[\u001b[0m\u001b[0;34m'lr'\u001b[0m\u001b[0;34m]\u001b[0m \u001b[0;34m/\u001b[0m \u001b[0mbias_correction1\u001b[0m\u001b[0;34m\u001b[0m\u001b[0;34m\u001b[0m\u001b[0m\n",
      "\u001b[0;31mKeyboardInterrupt\u001b[0m: "
     ]
    }
   ],
   "source": [
    "epochs = 1\n",
    "max_grad_norm = 1.0\n",
    "\n",
    "for _ in trange(epochs, desc=\"Epoch\"):\n",
    "    # TRAIN loop\n",
    "    model.train()\n",
    "    tr_loss = 0\n",
    "    nb_tr_examples, nb_tr_steps = 0, 0\n",
    "    for step, batch in enumerate(train_dataloader):\n",
    "        # add batch to gpu\n",
    "        batch = tuple(t.to(device) for t in batch)\n",
    "        b_input_ids, b_input_mask, b_labels = batch\n",
    "        # forward pass\n",
    "        loss = model(b_input_ids, token_type_ids=None,\n",
    "                     attention_mask=b_input_mask, labels=b_labels)\n",
    "        # backward pass\n",
    "        loss.backward()\n",
    "        # track train loss\n",
    "        tr_loss += loss.item()\n",
    "        nb_tr_examples += b_input_ids.size(0)\n",
    "        nb_tr_steps += 1\n",
    "        # gradient clipping\n",
    "        torch.nn.utils.clip_grad_norm_(parameters=model.parameters(), max_norm=max_grad_norm)\n",
    "        # update parameters\n",
    "        optimizer.step()\n",
    "        model.zero_grad()\n",
    "    # print train loss per epoch\n",
    "    print(\"Train loss: {}\".format(tr_loss/nb_tr_steps))\n",
    "    # VALIDATION on validation set\n",
    "    model.eval()\n",
    "    eval_loss, eval_accuracy = 0, 0\n",
    "    nb_eval_steps, nb_eval_examples = 0, 0\n",
    "    predictions , true_labels = [], []\n",
    "    for batch in valid_dataloader:\n",
    "        batch = tuple(t.to(device) for t in batch)\n",
    "        b_input_ids, b_input_mask, b_labels = batch\n",
    "        \n",
    "        with torch.no_grad():\n",
    "            tmp_eval_loss = model(b_input_ids, token_type_ids=None,\n",
    "                                  attention_mask=b_input_mask, labels=b_labels)\n",
    "            logits = model(b_input_ids, token_type_ids=None,\n",
    "                           attention_mask=b_input_mask)\n",
    "        logits = logits.detach().cpu().numpy()\n",
    "        label_ids = b_labels.to('cpu').numpy()\n",
    "        predictions.extend([list(p) for p in np.argmax(logits, axis=2)])\n",
    "        true_labels.append(label_ids)\n",
    "        \n",
    "        tmp_eval_accuracy = flat_accuracy(logits, label_ids)\n",
    "        \n",
    "        eval_loss += tmp_eval_loss.mean().item()\n",
    "        eval_accuracy += tmp_eval_accuracy\n",
    "        \n",
    "        nb_eval_examples += b_input_ids.size(0)\n",
    "        nb_eval_steps += 1\n",
    "    eval_loss = eval_loss/nb_eval_steps\n",
    "    print(\"Validation loss: {}\".format(eval_loss))\n",
    "    print(\"Validation Accuracy: {}\".format(eval_accuracy/nb_eval_steps))\n",
    "    pred_tags = [tags_vals[p_i] for p in predictions for p_i in p]\n",
    "    valid_tags = [tags_vals[l_ii] for l in true_labels for l_i in l for l_ii in l_i]\n",
    "    print(\"F1-Score: {}\".format(f1_score(pred_tags, valid_tags)))"
   ]
  },
  {
   "cell_type": "code",
   "execution_count": null,
   "metadata": {},
   "outputs": [],
   "source": [
    "model.eval()\n",
    "predictions = []\n",
    "true_labels = []\n",
    "eval_loss, eval_accuracy = 0, 0\n",
    "nb_eval_steps, nb_eval_examples = 0, 0\n",
    "for batch in valid_dataloader:\n",
    "    batch = tuple(t.to(device) for t in batch)\n",
    "    b_input_ids, b_input_mask, b_labels = batch\n",
    "\n",
    "    with torch.no_grad():\n",
    "        tmp_eval_loss = model(b_input_ids, token_type_ids=None,\n",
    "                              attention_mask=b_input_mask, labels=b_labels)\n",
    "        logits = model(b_input_ids, token_type_ids=None,\n",
    "                       attention_mask=b_input_mask)\n",
    "        \n",
    "    logits = logits.detach().cpu().numpy()\n",
    "    predictions.extend([list(p) for p in np.argmax(logits, axis=2)])\n",
    "\n",
    "    label_ids = b_labels.to('cpu').numpy()\n",
    "    true_labels.append(label_ids)\n",
    "    tmp_eval_accuracy = flat_accuracy(logits, label_ids)\n",
    "\n",
    "    eval_loss += tmp_eval_loss.mean().item()\n",
    "    eval_accuracy += tmp_eval_accuracy\n",
    "\n",
    "    nb_eval_examples += b_input_ids.size(0)\n",
    "    nb_eval_steps += 1\n",
    "\n",
    "pred_tags = [[tags_vals[p_i] for p_i in p] for p in predictions]\n",
    "valid_tags = [[tags_vals[l_ii] for l_ii in l_i] for l in true_labels for l_i in l ]\n",
    "print(\"Validation loss: {}\".format(eval_loss/nb_eval_steps))\n",
    "print(\"Validation Accuracy: {}\".format(eval_accuracy/nb_eval_steps))\n",
    "print(\"Validation F1-Score: {}\".format(f1_score(pred_tags, valid_tags)))"
   ]
  },
  {
   "cell_type": "code",
   "execution_count": null,
   "metadata": {},
   "outputs": [],
   "source": [
    "def keywordextract(sentence):\n",
    "    text = sentence\n",
    "    tkns = tokenizer.tokenize(text)\n",
    "    indexed_tokens = tokenizer.convert_tokens_to_ids(tkns)\n",
    "    segments_ids = [0] * len(tkns)\n",
    "    tokens_tensor = torch.tensor([indexed_tokens]).to(device)\n",
    "    segments_tensors = torch.tensor([segments_ids]).to(device)\n",
    "    model.eval()\n",
    "    prediction = []\n",
    "    logit = model(tokens_tensor, token_type_ids=None,\n",
    "                                  attention_mask=segments_tensors)\n",
    "    logit = logit.detach().cpu().numpy()\n",
    "    prediction.extend([list(p) for p in np.argmax(logit, axis=2)])\n",
    "    for k, j in enumerate(prediction[0]):\n",
    "        if j==1 or j==0:\n",
    "            print(tokenizer.convert_ids_to_tokens(tokens_tensor[0].to('cpu').numpy())[k], j)"
   ]
  },
  {
   "cell_type": "code",
   "execution_count": null,
   "metadata": {},
   "outputs": [],
   "source": [
    "text = \"The solution is based upon an abstract representation of the mobile object system.\""
   ]
  },
  {
   "cell_type": "code",
   "execution_count": null,
   "metadata": {},
   "outputs": [],
   "source": [
    "keywordextract(text)"
   ]
  },
  {
   "cell_type": "code",
   "execution_count": null,
   "metadata": {},
   "outputs": [],
   "source": []
  }
 ],
 "metadata": {
  "kernelspec": {
   "display_name": "Python 3",
   "language": "python",
   "name": "python3"
  },
  "language_info": {
   "codemirror_mode": {
    "name": "ipython",
    "version": 3
   },
   "file_extension": ".py",
   "mimetype": "text/x-python",
   "name": "python",
   "nbconvert_exporter": "python",
   "pygments_lexer": "ipython3",
   "version": "3.7.7"
  }
 },
 "nbformat": 4,
 "nbformat_minor": 2
}
